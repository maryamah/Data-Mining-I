{
 "cells": [
  {
   "cell_type": "code",
   "execution_count": 1,
   "metadata": {},
   "outputs": [],
   "source": [
    "from math import sqrt\n",
    "import numpy as np\n",
    "\n",
    "def Euclidean_Distance(row1, row2):\n",
    "    distance = 0\n",
    "    for i in range(len(row1)-1):\n",
    "        distance += (row1[i] - row2[i])**2\n",
    "    return sqrt(distance)"
   ]
  },
  {
   "cell_type": "code",
   "execution_count": null,
   "metadata": {},
   "outputs": [
    {
     "name": "stdout",
     "output_type": "stream",
     "text": [
      "5.912406172801237\n",
      "7.215114796649554\n",
      "5.762823441453197\n",
      "7.291247165694985\n",
      "5.68572848441368\n",
      "1.244114143007722\n",
      "3.342977402999999\n",
      "1.7813565228427415\n",
      "2.33069543\n",
      "1.7376841045382272\n"
     ]
    }
   ],
   "source": [
    "dataset = [\n",
    "    [2.7810836,2.550537003,0],\n",
    "    [1.465489372,2.362125076,0],\n",
    "    [3.396561688,4.400293529,0],\n",
    "    [1.38807019,1.850220317,0],\n",
    "    [3.06407232,3.005305973,0],\n",
    "    [7.627531214,2.759262235,1],\n",
    "    [5.332441248,2.088626775,1],\n",
    "    [6.922596716,1.77106367,1],\n",
    "    [8.675418651,-0.242068655,1],\n",
    "    [7.673756466,3.508563011,1]]\n",
    "test = [8.675418651, 2.088626775,1]\n",
    "for i in dataset:\n",
    "    dis = Euclidean_Distance(test, i)\n",
    "    print(dis)"
   ]
  },
  {
   "cell_type": "code",
   "execution_count": 3,
   "metadata": {},
   "outputs": [],
   "source": [
    "def Get_Neighbors(train, test_row, num):\n",
    "    distance = list()   #tuple\n",
    "    data = []\n",
    "    for i in train:\n",
    "        dist = Euclidean_Distance(test_row, i)      #1\n",
    "        distance.append(dist)\n",
    "        data.append(i)\n",
    "    distance = np.array(distance)\n",
    "    data = np.array(data)\n",
    "    index_dist = distance.argsort()                 #2\n",
    "    data = data[index_dist]                         #3\n",
    "    neighbors = data[:num]                          #4\n",
    "    \n",
    "    return neighbors"
   ]
  },
  {
   "cell_type": "code",
   "execution_count": 5,
   "metadata": {},
   "outputs": [
    {
     "data": {
      "text/plain": [
       "array([[7.62753121, 2.75926224, 1.        ],\n",
       "       [7.67375647, 3.50856301, 1.        ],\n",
       "       [6.92259672, 1.77106367, 1.        ]])"
      ]
     },
     "execution_count": 5,
     "metadata": {},
     "output_type": "execute_result"
    }
   ],
   "source": [
    "Get_Neighbors(dataset, test, 3)"
   ]
  },
  {
   "cell_type": "code",
   "execution_count": 6,
   "metadata": {},
   "outputs": [],
   "source": [
    "def Predict_Classification(train, test_row, num):\n",
    "    Neighbors = Get_Neighbors(train, test_row, num)\n",
    "    Classes = []\n",
    "    for i in Neighbors:\n",
    "        Classes.append(i[-1])\n",
    "    prediction = max(Classes, key= Classes.count)\n",
    "    return prediction"
   ]
  },
  {
   "cell_type": "code",
   "execution_count": 7,
   "metadata": {},
   "outputs": [
    {
     "data": {
      "text/plain": [
       "0.0"
      ]
     },
     "execution_count": 7,
     "metadata": {},
     "output_type": "execute_result"
    }
   ],
   "source": [
    "Predict_Classification(dataset,dataset[0], 4)"
   ]
  },
  {
   "cell_type": "code",
   "execution_count": 8,
   "metadata": {},
   "outputs": [
    {
     "name": "stdout",
     "output_type": "stream",
     "text": [
      "We expected 0, Got 0.0\n"
     ]
    }
   ],
   "source": [
    "prediction = Predict_Classification(dataset, dataset[0], 4)\n",
    "print(\"We expected {}, Got {}\".format(dataset[0][-1], prediction))"
   ]
  },
  {
   "cell_type": "code",
   "execution_count": null,
   "metadata": {},
   "outputs": [],
   "source": []
  }
 ],
 "metadata": {
  "kernelspec": {
   "display_name": "Python 3",
   "language": "python",
   "name": "python3"
  },
  "language_info": {
   "codemirror_mode": {
    "name": "ipython",
    "version": 3
   },
   "file_extension": ".py",
   "mimetype": "text/x-python",
   "name": "python",
   "nbconvert_exporter": "python",
   "pygments_lexer": "ipython3",
   "version": "3.9.6"
  }
 },
 "nbformat": 4,
 "nbformat_minor": 2
}
